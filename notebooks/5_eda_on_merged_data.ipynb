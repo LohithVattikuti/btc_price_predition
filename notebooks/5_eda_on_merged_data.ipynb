{
 "cells": [
  {
   "cell_type": "code",
   "execution_count": null,
   "metadata": {},
   "outputs": [],
   "source": [
    "import pandas as pd\n",
    "\n",
    "# Define file path\n",
    "final_dataset_path = \"../datasets/final_merged_dataset.parquet\"\n",
    "\n",
    "# Load processed dataset\n",
    "merged_data = pd.read_parquet(final_dataset_path)\n",
    "\n",
    "# Convert 'date' column to datetime format (if not already)\n",
    "merged_data['date'] = pd.to_datetime(merged_data['date'])\n",
    "\n",
    "# Set date as index for time-series analysis\n",
    "merged_data.set_index('date', inplace=True)\n",
    "\n",
    "# Display basic summary statistics\n",
    "print(\"Summary Statistics:\")\n",
    "print(merged_data.describe())\n"
   ]
  },
  {
   "cell_type": "code",
   "execution_count": null,
   "metadata": {},
   "outputs": [],
   "source": [
    "import seaborn as sns\n",
    "import matplotlib.pyplot as plt\n",
    "\n",
    "sns.set_style(\"darkgrid\")  # Set style for better visualization\n",
    "\n",
    "plt.figure(figsize=(12, 6))\n",
    "sns.lineplot(x=merged_data.index, y=merged_data['Close'], color='blue', label=\"Bitcoin Close Price\")\n",
    "plt.xlabel(\"Date\")\n",
    "plt.ylabel(\"Closing Price (Normalized)\")\n",
    "plt.title(\"Bitcoin Closing Price Over Time\")\n",
    "plt.legend()\n",
    "plt.show()"
   ]
  },
  {
   "cell_type": "code",
   "execution_count": null,
   "metadata": {},
   "outputs": [],
   "source": [
    "plt.figure(figsize=(12, 6))\n",
    "sns.lineplot(x=merged_data.index, y=merged_data['sentiment_score'], label=\"VADER Sentiment Score\", color='green')\n",
    "sns.lineplot(x=merged_data.index, y=merged_data['bert_sentiment'], label=\"BERT Sentiment Score\", color='red')\n",
    "plt.xlabel(\"Date\")\n",
    "plt.ylabel(\"Sentiment Score\")\n",
    "plt.title(\"Bitcoin Sentiment Scores Over Time\")\n",
    "plt.legend()\n",
    "plt.show()"
   ]
  },
  {
   "cell_type": "code",
   "execution_count": null,
   "metadata": {},
   "outputs": [],
   "source": [
    "fig, ax1 = plt.subplots(figsize=(12, 6))\n",
    "\n",
    "# Plot Bitcoin Closing Price\n",
    "sns.lineplot(x=merged_data.index, y=merged_data['Close'], color='blue', ax=ax1, label=\"Bitcoin Close Price\")\n",
    "ax1.set_ylabel(\"Bitcoin Closing Price (Normalized)\", color='blue')\n",
    "ax1.tick_params(axis='y', labelcolor='blue')\n",
    "\n",
    "# Create secondary axis for sentiment scores\n",
    "ax2 = ax1.twinx()\n",
    "sns.lineplot(x=merged_data.index, y=merged_data['sentiment_score'], color='green', ax=ax2, label=\"VADER Sentiment Score\", linestyle=\"dashed\")\n",
    "sns.lineplot(x=merged_data.index, y=merged_data['bert_sentiment'], color='red', ax=ax2, label=\"BERT Sentiment Score\", linestyle=\"dashed\")\n",
    "ax2.set_ylabel(\"Sentiment Score\", color='green')\n",
    "ax2.tick_params(axis='y', labelcolor='green')\n",
    "\n",
    "plt.title(\"Bitcoin Closing Price vs Sentiment Scores\")\n",
    "plt.grid()\n",
    "plt.show()"
   ]
  },
  {
   "cell_type": "code",
   "execution_count": null,
   "metadata": {},
   "outputs": [],
   "source": [
    "plt.figure(figsize=(12, 6))\n",
    "sns.lineplot(x=merged_data.index, y=merged_data['Close'], label=\"Close Price\", color='blue', alpha=0.5)\n",
    "sns.lineplot(x=merged_data.index, y=merged_data['close_7d_avg'], label=\"7-Day Avg\", color='orange', linestyle='dashed')\n",
    "sns.lineplot(x=merged_data.index, y=merged_data['close_30d_avg'], label=\"30-Day Avg\", color='red', linestyle='dashed')\n",
    "plt.xlabel(\"Date\")\n",
    "plt.ylabel(\"Price (Normalized)\")\n",
    "plt.title(\"Bitcoin Closing Price with Rolling Averages\")\n",
    "plt.legend()\n",
    "plt.show()"
   ]
  },
  {
   "cell_type": "code",
   "execution_count": null,
   "metadata": {},
   "outputs": [],
   "source": [
    "plt.figure(figsize=(12, 6))\n",
    "sns.lineplot(x=merged_data.index, y=merged_data['volatility_7d'], label=\"7-Day Volatility\", color='purple')\n",
    "sns.lineplot(x=merged_data.index, y=merged_data['volatility_30d'], label=\"30-Day Volatility\", color='brown')\n",
    "plt.xlabel(\"Date\")\n",
    "plt.ylabel(\"Volatility\")\n",
    "plt.title(\"Bitcoin Price Volatility Over Time\")\n",
    "plt.legend()\n",
    "plt.show()"
   ]
  }
 ],
 "metadata": {
  "language_info": {
   "name": "python"
  }
 },
 "nbformat": 4,
 "nbformat_minor": 2
}
